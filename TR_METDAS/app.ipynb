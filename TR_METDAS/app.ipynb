{
 "cells": [
  {
   "cell_type": "markdown",
   "id": "025d65c5",
   "metadata": {},
   "source": [
    "# Import Library"
   ]
  },
  {
   "cell_type": "code",
   "execution_count": 4,
   "id": "10c09473",
   "metadata": {},
   "outputs": [
    {
     "name": "stdout",
     "output_type": "stream",
     "text": [
      " * Serving Flask app '__main__' (lazy loading)\n",
      " * Environment: production\n",
      "\u001b[31m   WARNING: This is a development server. Do not use it in a production deployment.\u001b[0m\n",
      "\u001b[2m   Use a production WSGI server instead.\u001b[0m\n",
      " * Debug mode: on\n"
     ]
    },
    {
     "name": "stderr",
     "output_type": "stream",
     "text": [
      " * Running on http://127.0.0.1:5000 (Press CTRL+C to quit)\n",
      " * Restarting with stat\n"
     ]
    },
    {
     "ename": "SystemExit",
     "evalue": "1",
     "output_type": "error",
     "traceback": [
      "An exception has occurred, use %tb to see the full traceback.\n",
      "\u001b[1;31mSystemExit\u001b[0m\u001b[1;31m:\u001b[0m 1\n"
     ]
    }
   ],
   "source": [
    "from flask import Flask, render_template, request, redirect\n",
    "import pickle\n",
    "import sklearn\n",
    "import numpy as np                        \n",
    "\n",
    "app = Flask(__name__)\n",
    "\n",
    "@app.route('/', methods=['POST', 'GET'])\n",
    "def index():\n",
    "    if request.method == 'POST':\n",
    "\n",
    "        dtreepred = pickle.load(open('dtree_pickle','rb'))\n",
    "\n",
    "        nama = str(request.form['nama'])\n",
    "        glukosa = float(request.form['glukosa'])\n",
    "        darah = float(request.form['darah'])\n",
    "        kulit = float(request.form['kulit'])\n",
    "        insulin = float(request.form['insulin'])\n",
    "        bmi = float(request.form['bmi'])\n",
    "        riwayat = float(request.form['riwayat'])\n",
    "        umur = float(request.form['umur'])\n",
    "\n",
    "        datas = np.array((,glukosa,darah,kulit,insulin,bmi,riwayat,umur))\n",
    "        datas = np.reshape(datas, (1, -1))\n",
    "\n",
    "        isDiabetes = model.predict(datas)\n",
    "\n",
    "        return render_template('hasil.html', finalData=isDiabetes)\n",
    "    else:\n",
    "        return render_template('index.html')\n",
    "\n",
    "if __name__ == '__main__':\n",
    "    app.run(debug=True)\n"
   ]
  }
 ],
 "metadata": {
  "kernelspec": {
   "display_name": "Python 3 (ipykernel)",
   "language": "python",
   "name": "python3"
  },
  "language_info": {
   "codemirror_mode": {
    "name": "ipython",
    "version": 3
   },
   "file_extension": ".py",
   "mimetype": "text/x-python",
   "name": "python",
   "nbconvert_exporter": "python",
   "pygments_lexer": "ipython3",
   "version": "3.10.2"
  }
 },
 "nbformat": 4,
 "nbformat_minor": 5
}
